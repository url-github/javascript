{
  "nbformat": 4,
  "nbformat_minor": 0,
  "metadata": {
    "colab": {
      "name": "10 - Pozostałe.ipynb",
      "provenance": [],
      "authorship_tag": "ABX9TyPWO3yg2Ohunyu2UtAv9fuP"
    },
    "kernelspec": {
      "name": "python3",
      "display_name": "Python 3"
    },
    "language_info": {
      "name": "python"
    }
  },
  "cells": [
    {
      "cell_type": "code",
      "source": [
        "<!DOCTYPE html>\n",
        "<html lang=\"en\">\n",
        "<head>\n",
        "    <meta charset=\"UTF-8\">\n",
        "    <meta http-equiv=\"X-UA-Compatible\" content=\"IE=edge\">\n",
        "    <meta name=\"viewport\" content=\"width=device-width, initial-scale=1.0\">\n",
        "    <title>JavaScript</title>\n",
        "    <link rel=\"stylesheet\" href=\"style.css\"\n",
        " \n",
        "</head>\n",
        "\n",
        "<body>\n",
        "    <h1>Pozostałe</h1>\n",
        "\n",
        "    <script src=\"./script.js\"></script>\n",
        "</body>\n",
        "</html>"
      ],
      "metadata": {
        "id": "q8xlPUrnvJbE"
      },
      "execution_count": null,
      "outputs": []
    },
    {
      "cell_type": "code",
      "source": [
        "* {\n",
        "\tbox-sizing: border-box;\n",
        "\tmargin: 0;\n",
        "\tpadding: 0;\n",
        "}\n",
        "\n",
        "body {\n",
        "\tdisplay: flex;\n",
        "\tjustify-content: center;\n",
        "\talign-items: center;\n",
        "\tflex-direction: column;\n",
        "\theight: 100vh;\n",
        "\tfont-family: 'Open Sans', sans-serif;\n",
        "\tcolor: #fff;\n",
        "\tbackground-color: #1e1d23;\n",
        "\tfont-size: 36px;\n",
        "}"
      ],
      "metadata": {
        "id": "LD15YmS7vO48"
      },
      "execution_count": null,
      "outputs": []
    },
    {
      "cell_type": "markdown",
      "source": [
        "88 - Settimeout & Setinterval"
      ],
      "metadata": {
        "id": "Qmw09Q79u1CM"
      }
    },
    {
      "cell_type": "code",
      "execution_count": null,
      "metadata": {
        "id": "tgMEvxA72Yij"
      },
      "outputs": [],
      "source": [
        "const test = () => {\n",
        "    console.log('example')\n",
        "}\n",
        "test()\n",
        "setTimeout(test, 1000) // Funkcja wywołana po 1 sek.\n",
        "\n",
        "setInterval(test, 1000) // Funkcja będzie wykonywana co sekundę"
      ]
    },
    {
      "cell_type": "markdown",
      "source": [
        "89 - Strict Mode"
      ],
      "metadata": {
        "id": "6aw5U50pySR-"
      }
    },
    {
      "cell_type": "code",
      "source": [
        "'use strict' // to flaga, która wywoła błędy w tych miejscach gdzie jest do poprawienia kod\n",
        "\n",
        "const colors = ['red', 'green', 'blue']\n",
        "\n",
        "\n",
        "// To będzie działać, ale tak nie powinno się robić\n",
        "// for(color of colors) {\n",
        "//     console.log(color)\n",
        "// }\n",
        "\n",
        "// Tak powinno być\n",
        "for(let color of colors) {\n",
        "    console.log(color)\n",
        "}"
      ],
      "metadata": {
        "id": "R33shpgeyXy0"
      },
      "execution_count": null,
      "outputs": []
    },
    {
      "cell_type": "markdown",
      "source": [
        "90 - Alert, Confirm & Prompt"
      ],
      "metadata": {
        "id": "CPKAcgwL4yFV"
      }
    },
    {
      "cell_type": "code",
      "source": [
        "// alert('example')\n",
        "\n",
        "// confirm('example')\n",
        "\n",
        "// if(confirm('Chcesz tofu?')) {\n",
        "//     console.log('OK');\n",
        "// } else {\n",
        "//     console.log('Nie, to nie');\n",
        "// }\n",
        "\n",
        "const name = prompt('Podaj swoje hasło', 'DDgrte%%@')\n",
        "console.log(`Hasło to: ${name}`);"
      ],
      "metadata": {
        "id": "BocVj-rk46sl"
      },
      "execution_count": null,
      "outputs": []
    },
    {
      "cell_type": "markdown",
      "source": [
        "91 - Obiekt MATH"
      ],
      "metadata": {
        "id": "xr4Cj_of7yB_"
      }
    },
    {
      "cell_type": "code",
      "source": [
        "console.log(Math)\n",
        "\n",
        "console.log(Math.PI)\n",
        "\n",
        "console.log(Math.max(5,10))\n",
        "console.log(Math.min(5,10))\n",
        "\n",
        "console.log(Math.random()) // 1-10\n",
        "console.log(Math.random()*100) // 1-100\n",
        "\n",
        "const number = Math.random() * 10 // 1-10 (Liczby całkowite)\n",
        "console.log(Math.floor(number))"
      ],
      "metadata": {
        "id": "HotYuRKs72l4"
      },
      "execution_count": null,
      "outputs": []
    },
    {
      "cell_type": "markdown",
      "source": [
        "92 - Atrybuty w JS"
      ],
      "metadata": {
        "id": "xSW5y_J0_8wi"
      }
    },
    {
      "cell_type": "code",
      "source": [
        "<!DOCTYPE html>\n",
        "<html lang=\"en\">\n",
        "<head>\n",
        "    <meta charset=\"UTF-8\">\n",
        "    <meta http-equiv=\"X-UA-Compatible\" content=\"IE=edge\">\n",
        "    <meta name=\"viewport\" content=\"width=device-width, initial-scale=1.0\">\n",
        "    <title>JavaScript</title>\n",
        "    <link rel=\"stylesheet\" href=\"style.css\"\n",
        " \n",
        "</head>\n",
        "\n",
        "<body>\n",
        "    <h1>Pozostałe</h1>\n",
        "\n",
        "    <a></a>\n",
        "    <img src='obrazek.jpg' alt='123'\n",
        "    <p style='text-transform: uppercase;'>paragraf</p>\n",
        "\n",
        "    <script src=\"./script.js\"></script>\n",
        "</body>\n",
        "</html>"
      ],
      "metadata": {
        "id": "sBTDgRsAoxQc"
      },
      "execution_count": null,
      "outputs": []
    },
    {
      "cell_type": "code",
      "source": [
        "const link = document.querySelector('a')\n",
        "const img = document.querySelector('img')\n",
        "const p = document.querySelector('p')\n",
        "\n",
        "\n",
        "// Dodaje i ustawia nowy atrybut i przypisuje do niego wartość\n",
        "link.setAttribute('href', '#')\n",
        "link.setAttribute('target', '_blank')\n",
        "\n",
        "\n",
        "// Pobiera wartość, która jest przypisana do danego atrybutu\n",
        "console.log(img.getAttribute('src'))\n",
        "console.log(img.getAttribute('alt'))\n",
        "\n",
        "\n",
        "// Sprawdzam czy jest dany atrybut\n",
        "console.log(p.hasAttribute('style'))\n",
        "console.log(p.hasAttribute('src'))\n",
        "\n",
        "\n",
        "// Usuwa wskazany atrybut z DOM\n",
        "p.removeAttribute('style')"
      ],
      "metadata": {
        "id": "M8PIP3T-ACr9"
      },
      "execution_count": null,
      "outputs": []
    },
    {
      "cell_type": "markdown",
      "source": [
        "93 - data-atrybuty"
      ],
      "metadata": {
        "id": "5rTsgAr0IUZK"
      }
    },
    {
      "cell_type": "code",
      "source": [
        "<!DOCTYPE html>\n",
        "<html lang=\"en\">\n",
        "<head>\n",
        "    <meta charset=\"UTF-8\">\n",
        "    <meta http-equiv=\"X-UA-Compatible\" content=\"IE=edge\">\n",
        "    <meta name=\"viewport\" content=\"width=device-width, initial-scale=1.0\">\n",
        "    <title>JavaScript</title>\n",
        "    <link rel=\"stylesheet\" href=\"style.css\"\n",
        " \n",
        "</head>\n",
        "\n",
        "<body>\n",
        "    <h1>Pozostałe</h1>\n",
        "\n",
        "    <!-- To są zwykłe atrybuty -->\n",
        "    <img src='' alt=''> \n",
        "    <!-- To są customowe atrybuty -->\n",
        "    <div data-number='23' data-more-info='example'></div>\n",
        "\n",
        "    <script src=\"./script.js\"></script>\n",
        "</body>\n",
        "</html>"
      ],
      "metadata": {
        "id": "-RhFH0E1nrM4"
      },
      "execution_count": null,
      "outputs": []
    },
    {
      "cell_type": "code",
      "source": [
        "const div = document.querySelector('div')\n",
        "console.log(div)\n",
        "\n",
        "const div2 = document.querySelector('[data-number=\"23\"]')\n",
        "console.log(div2)\n",
        "\n",
        "const divTag = document.querySelector('[data-number=\"23\"]')\n",
        "console.log(divTag.dataset)\n",
        "console.log(divTag.dataset.moreInfo)\n",
        "console.log(divTag.dataset.number)\n",
        "\n",
        "divTag.dataset.color = 'blue'\n",
        "\n",
        "divTag.setAttribute('data-test', '123')\n",
        "console.log(div)"
      ],
      "metadata": {
        "id": "OrZSu3wOIaqo"
      },
      "execution_count": null,
      "outputs": []
    },
    {
      "cell_type": "markdown",
      "source": [
        "94 - Relacje rodzinne"
      ],
      "metadata": {
        "id": "39pKrDs8ePWC"
      }
    },
    {
      "cell_type": "code",
      "source": [
        "<!DOCTYPE html>\n",
        "<html lang=\"en\">\n",
        "<head>\n",
        "    <meta charset=\"UTF-8\">\n",
        "    <meta http-equiv=\"X-UA-Compatible\" content=\"IE=edge\">\n",
        "    <meta name=\"viewport\" content=\"width=device-width, initial-scale=1.0\">\n",
        "    <title>JavaScript</title>\n",
        "    <link rel=\"stylesheet\" href=\"style.css\"\n",
        " \n",
        "</head>\n",
        "\n",
        "<body>\n",
        "    <h1>Pozostałe</h1>\n",
        "\n",
        "    <a></a>\n",
        "    <img src='obrazek.jpg' alt='123'\n",
        "    <p style='text-transform: uppercase;'>paragraf</p>\n",
        "\n",
        "\n",
        "    <div class='grandparent'>\n",
        "        <div class='parent'>\n",
        "            <p class='child'>1</p>\n",
        "            <p class='child middle-child'>2</p>\n",
        "            <p class='child'>3</p>           \n",
        "        </div>\n",
        "\n",
        "    </div>\n",
        "\n",
        "    <script src=\"./script.js\"></script>\n",
        "</body>\n",
        "</html>"
      ],
      "metadata": {
        "id": "-EUxXwQVlWnW"
      },
      "execution_count": null,
      "outputs": []
    },
    {
      "cell_type": "code",
      "source": [
        "const grandpa = document.querySelector('.grandparent')\n",
        "\n",
        "console.log(grandpa.querySelector('.parent'))\n",
        "console.log(grandpa.querySelectorAll('.child'))\n",
        "\n",
        "const middleChild = document.querySelector('.middle-child')\n",
        "console.log(middleChild)\n",
        "\n",
        "\n",
        "const prevSibling = middleChild.previousElementSibling\n",
        "console.log(prevSibling)\n",
        "\n",
        "const nextSibling = middleChild.nextElementSibling\n",
        "console.log(nextSibling)\n",
        "\n",
        "const parentEl = middleChild.parentElement\n",
        "console.log(parentEl)\n",
        "\n",
        "// Przeszukuje najbliższy element, który będzie najbliższy temu co podamy\n",
        "\n",
        "console.log(middleChild.closest('.grandparent'))"
      ],
      "metadata": {
        "id": "BSz4SHrmeWu5"
      },
      "execution_count": null,
      "outputs": []
    },
    {
      "cell_type": "markdown",
      "source": [
        "95 - #zad1"
      ],
      "metadata": {
        "id": "USAJIQs87sOZ"
      }
    },
    {
      "cell_type": "code",
      "source": [
        "<!DOCTYPE html>\n",
        "<html lang=\"en\">\n",
        "<head>\n",
        "    <meta charset=\"UTF-8\">\n",
        "    <meta http-equiv=\"X-UA-Compatible\" content=\"IE=edge\">\n",
        "    <meta name=\"viewport\" content=\"width=device-width, initial-scale=1.0\">\n",
        "    <title>JavaScript</title>\n",
        "    <link rel=\"stylesheet\" href=\"style.css\"\n",
        " \n",
        "</head>\n",
        "\n",
        "<body>\n",
        "    <h1>Pozostałe</h1>\n",
        "\n",
        "    <img>\n",
        "\n",
        "    <script src=\"./script.js\"></script>\n",
        "</body>\n",
        "</html>"
      ],
      "metadata": {
        "id": "tpOMbIKe7vl3"
      },
      "execution_count": null,
      "outputs": []
    },
    {
      "cell_type": "code",
      "source": [
        "const img = document.querySelector('img')\n",
        "\n",
        "img.setAttribute('src', 'https://unsplash.it/600/400')\n",
        "img.setAttribute('alt', 'Losowy obrazek z internetu')\n",
        "\n",
        "const test = () => {\n",
        "    console.log('Funkcja wywołana z opóźnieniem')\n",
        "}\n",
        "\n",
        "setTimeout(test, 5000)"
      ],
      "metadata": {
        "id": "V_RsxyEN7xl2"
      },
      "execution_count": null,
      "outputs": []
    },
    {
      "cell_type": "markdown",
      "source": [
        "96 - #zad2"
      ],
      "metadata": {
        "id": "8ON7uofI7zVL"
      }
    },
    {
      "cell_type": "code",
      "source": [
        "<!DOCTYPE html>\n",
        "<html lang=\"en\">\n",
        "<head>\n",
        "    <meta charset=\"UTF-8\">\n",
        "    <meta http-equiv=\"X-UA-Compatible\" content=\"IE=edge\">\n",
        "    <meta name=\"viewport\" content=\"width=device-width, initial-scale=1.0\">\n",
        "    <title>JavaScript</title>\n",
        "    <link rel=\"stylesheet\" href=\"style.css\"\n",
        " \n",
        "</head>\n",
        "\n",
        "<body>\n",
        "    <h1>Pozostałe</h1>\n",
        "\n",
        "<div class='wrapper'>\n",
        "    <ul>\n",
        "        <li></li>\n",
        "        <li></li>\n",
        "        <li></li>\n",
        "        <li></li>\n",
        "        <li></li>\n",
        "    </ul>\n",
        "\n",
        "</div>\n",
        "\n",
        "    <script src=\"./script.js\"></script>\n",
        "</body>\n",
        "</html>"
      ],
      "metadata": {
        "id": "mL8QleAZ72da"
      },
      "execution_count": null,
      "outputs": []
    },
    {
      "cell_type": "code",
      "source": [
        "const liItems = document.querySelectorAll('li')\n",
        "\n",
        "let number = 1\n",
        "\n",
        "// Za pomocą for of\n",
        "\n",
        "for(const liItem of liItems) {\n",
        "    liItem.textContent = number\n",
        "    liItem.dataset.id = number\n",
        "    number ++\n",
        "}\n",
        "\n",
        "// Za pomocą for\n",
        "\n",
        "// for(let i = 0; i < liItems.length; i++) {\n",
        "//     liItems[i].textContent = number\n",
        "//     liItems[i].dataset.id = number\n",
        "\n",
        "//     number ++\n",
        "// }\n",
        "\n",
        "const thirdLi = document.querySelector('body > div > ul > li:nth-child(3)')\n",
        "console.log(thirdLi)\n",
        "\n",
        "// Pobranie trzeciego li za pomocą data-atrybutu\n",
        "const thirdLi2 = document.querySelector('[data-id=\"3\"]')\n",
        "console.log(thirdLi2.closest('.wrapper'))"
      ],
      "metadata": {
        "id": "h5Wwk02BfJYI"
      },
      "execution_count": null,
      "outputs": []
    },
    {
      "cell_type": "markdown",
      "source": [
        "97 - ID jako zmienna"
      ],
      "metadata": {
        "id": "p-KCmgMvfPzg"
      }
    },
    {
      "cell_type": "code",
      "source": [
        "<!DOCTYPE html>\n",
        "<html lang=\"en\">\n",
        "<head>\n",
        "    <meta charset=\"UTF-8\">\n",
        "    <meta http-equiv=\"X-UA-Compatible\" content=\"IE=edge\">\n",
        "    <meta name=\"viewport\" content=\"width=device-width, initial-scale=1.0\">\n",
        "    <title>JavaScript</title>\n",
        "    <link rel=\"stylesheet\" href=\"style.css\"\n",
        " \n",
        "</head>\n",
        "\n",
        "<body>\n",
        "    <h1>Pozostałe</h1>\n",
        "\n",
        "    <div id='test'></div>\n",
        "\n",
        "</div>\n",
        "\n",
        "    <script src=\"./script.js\"></script>\n",
        "</body>\n",
        "</html>"
      ],
      "metadata": {
        "id": "42Rlk0CCfSU9"
      },
      "execution_count": null,
      "outputs": []
    },
    {
      "cell_type": "code",
      "source": [
        "console.log(test)"
      ],
      "metadata": {
        "id": "6vvtTdAMniDu"
      },
      "execution_count": null,
      "outputs": []
    },
    {
      "cell_type": "markdown",
      "source": [
        "98 - Konsola"
      ],
      "metadata": {
        "id": "7LyPk2tqsu_6"
      }
    },
    {
      "cell_type": "code",
      "source": [
        "<!DOCTYPE html>\n",
        "<html lang=\"en\">\n",
        "<head>\n",
        "    <meta charset=\"UTF-8\">\n",
        "    <meta http-equiv=\"X-UA-Compatible\" content=\"IE=edge\">\n",
        "    <meta name=\"viewport\" content=\"width=device-width, initial-scale=1.0\">\n",
        "    <title>JavaScript</title>\n",
        "    <link rel=\"stylesheet\" href=\"style.css\"\n",
        " \n",
        "</head>\n",
        "\n",
        "<body>\n",
        "    <h1>Pozostałe</h1>\n",
        "\n",
        "    <div id='test'></div>\n",
        "\n",
        "</div>\n",
        "\n",
        "    <script src=\"./script.js\"></script>\n",
        "</body>\n",
        "</html>"
      ],
      "metadata": {
        "id": "A7EoXnIIs0Jp"
      },
      "execution_count": null,
      "outputs": []
    },
    {
      "cell_type": "code",
      "source": [
        "console.log(window.console);\n",
        "\n",
        "console.warn(\"This is a warning!\");\n",
        "\n",
        "console.error('error123')\n",
        "\n",
        "console.table(['123', '123'])\n",
        "\n",
        "const persons = [\n",
        "    {\n",
        "        name: 'Ania',\n",
        "        age: 23,\n",
        "        fav: null\n",
        "    },\n",
        "    {\n",
        "        name: 'Antoni',\n",
        "        age: 20\n",
        "    }\n",
        "]\n",
        "\n",
        "console.table(persons)"
      ],
      "metadata": {
        "id": "QxDIkVJZs3ar"
      },
      "execution_count": null,
      "outputs": []
    }
  ]
}