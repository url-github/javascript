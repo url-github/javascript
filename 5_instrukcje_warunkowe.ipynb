{
  "nbformat": 4,
  "nbformat_minor": 0,
  "metadata": {
    "colab": {
      "name": "5 - instrukcje warunkowe.ipynb",
      "provenance": [],
      "authorship_tag": "ABX9TyOHUn9uJuqbXj4UETwJmb+M"
    },
    "kernelspec": {
      "name": "python3",
      "display_name": "Python 3"
    },
    "language_info": {
      "name": "python"
    }
  },
  "cells": [
    {
      "cell_type": "markdown",
      "source": [
        "29. If, else if & else"
      ],
      "metadata": {
        "id": "tFg9Qn0FUNWx"
      }
    },
    {
      "cell_type": "code",
      "execution_count": null,
      "metadata": {
        "id": "9ddYy8IaEjxc"
      },
      "outputs": [],
      "source": [
        "<!DOCTYPE html>\n",
        "<html lang='en'>\n",
        "\n",
        "<head>\n",
        "    <meta charset='UTF-8'>\n",
        "    <meta http-equiv=\"X-UA-Compatibile\" content='IE=edge'>\n",
        "    <meta name=\"viewport\" content=\"width=device-width, initial-scale=1.0\">\n",
        "    <title> MCC - JavaScript</title>\n",
        "    <link rel=\"stylesheet\" href=\"style.css\"\n",
        " \n",
        "</head>\n",
        "\n",
        "<body>\n",
        "    <h1>Instrukcje warunkowe</h1>\n",
        "\n",
        "    <script src=\"./script.js\"></script>\n",
        "</body>\n",
        "</html>"
      ]
    },
    {
      "cell_type": "code",
      "source": [
        "* {\n",
        "\tbox-sizing: border-box;\n",
        "\tmargin: 0;\n",
        "\tpadding: 0;\n",
        "}\n",
        "\n",
        "body {\n",
        "\tdisplay: flex;\n",
        "\tjustify-content: center;\n",
        "\talign-items: center;\n",
        "\tflex-direction: column;\n",
        "\theight: 100vh;\n",
        "\tfont-family: 'Open Sans', sans-serif;\n",
        "\tcolor: #fff;\n",
        "\tbackground-color: #1e1d23;\n",
        "\tfont-size: 36px;\n",
        "}"
      ],
      "metadata": {
        "id": "3q6QPAnLWTs7"
      },
      "execution_count": null,
      "outputs": []
    },
    {
      "cell_type": "code",
      "source": [
        "const pass = 'dhddgerVWV^%#'\n",
        "\n",
        "if(pass.length > 10 && pass.includes('!')) {\n",
        "    console.log('Masz rewelacyjne hasło')\n",
        "} else if (pass.length > 10) {\n",
        "    console.log('Masz dobre hasło')\n",
        "} else {\n",
        "    console.log('Masz za krótkie hasło')\n",
        "}\n",
        "\n",
        "// const color = 'blue'\n",
        "\n",
        "// if (color == 'blue') {\n",
        "//     if (10<0) {\n",
        "//         console.log('true')\n",
        "//     } else {\n",
        "//         console.log('false')\n",
        "//     }\n",
        "\n",
        "// } else {\n",
        "//     console.log('false')\n",
        "// }"
      ],
      "metadata": {
        "id": "RvsAAbiiWZg9"
      },
      "execution_count": null,
      "outputs": []
    },
    {
      "cell_type": "code",
      "source": [
        "const day = 'sobota'\n",
        "\n",
        "if (day === 'poniedzialek') {\n",
        "    console.log('Dzis jest poniedzialek')\n",
        "} else if (day === 'wtorek') {\n",
        "    console.log('Dzis jest wtorek')\n",
        "} else if (day === 'sroda') {\n",
        "    console.log('Dzis jest sroda')\n",
        "} else if (day === 'czwartek') {\n",
        "    console.log('Dzis jest czwartek')\n",
        "} else if (day === 'piatek') {\n",
        "    console.log('Dzis jest piatek')\n",
        "} else {\n",
        "    console.log('Weekend !!!')\n",
        "}"
      ],
      "metadata": {
        "id": "IfLZKM-vB_4Y"
      },
      "execution_count": null,
      "outputs": []
    },
    {
      "cell_type": "code",
      "source": [
        "const color = 'blue'\n",
        "const newColor = 'green'\n",
        "\n",
        "if(color == newColor) {\n",
        "    console.log('Kolory się zgadzają')\n",
        "} else {\n",
        "    console.log('Kolory się nie zgadzają')\n",
        "}"
      ],
      "metadata": {
        "id": "XUnFdS3pLdvY"
      },
      "execution_count": null,
      "outputs": []
    },
    {
      "cell_type": "code",
      "source": [
        "const x = 100\n",
        "const y = 100\n",
        "\n",
        "if (x > y) {\n",
        "    console.log('x > y')\n",
        "} else if (x === y) {\n",
        "    console.log('x = y')\n",
        "} else {\n",
        "    console.log('x < y')\n",
        "}"
      ],
      "metadata": {
        "id": "Q6WMSMQALjBC"
      },
      "execution_count": null,
      "outputs": []
    },
    {
      "cell_type": "code",
      "source": [
        "const x = 29\n",
        "\n",
        "if (x >= 100) {\n",
        "    console.log('x>=100')\n",
        "} else if (x < 100 && x > 30) {\n",
        "    console.log('X jest średniakiem'.toUpperCase())\n",
        "} else {\n",
        "    console.log('X jest mały'.toUpperCase())\n",
        "}"
      ],
      "metadata": {
        "id": "Pxyma0bRL0bO"
      },
      "execution_count": null,
      "outputs": []
    },
    {
      "cell_type": "code",
      "source": [
        "const x = 100\n",
        "\n",
        "let text\n",
        "\n",
        "if (x >= 100) {\n",
        "    text = 'x > 100'\n",
        "} else if (x < 100 && x > 30) {\n",
        "    text = 'X jest średniakiem'\n",
        "} else {\n",
        "    text = 'X jest mały'\n",
        "}\n",
        "\n",
        "console.log(text.toUpperCase())"
      ],
      "metadata": {
        "id": "oeYh1inGNRXJ"
      },
      "execution_count": null,
      "outputs": []
    },
    {
      "cell_type": "code",
      "source": [
        "const x = 100\n",
        "\n",
        "let text\n",
        "\n",
        "if (x >= 100) {\n",
        "    text = 'x > 100'\n",
        "} else if (x < 100 && x > 30) {\n",
        "    text = 'X jest średniakiem'\n",
        "} else {\n",
        "    text = 'X jest mały'\n",
        "}\n",
        "\n",
        "console.log(text.toUpperCase())"
      ],
      "metadata": {
        "id": "5BiLVsppOSEi"
      },
      "execution_count": null,
      "outputs": []
    },
    {
      "cell_type": "markdown",
      "source": [
        "30. Switch"
      ],
      "metadata": {
        "id": "RCEVCv8QWe6_"
      }
    },
    {
      "cell_type": "code",
      "source": [
        "const day = 'sobota'\n",
        "\n",
        "switch (day) {\n",
        "    case 'poniedzialek':\n",
        "        console.log('Dzis jest poniedzialek')\n",
        "        break\n",
        "\n",
        "    case 'wtorek':\n",
        "        console.log('Dzis jest wtorek')\n",
        "        break\n",
        "    \n",
        "    case 'sroda':\n",
        "        console.log('Dzis jest sroda')\n",
        "        break\n",
        "\n",
        "    case 'czwartek':\n",
        "        console.log('Dzis jest czwartek')\n",
        "        break\n",
        "\n",
        "    case 'piatek':\n",
        "        console.log('Dzis jest piatek')\n",
        "        break\n",
        "    \n",
        "    default:\n",
        "        console.log('Weekend!!!')\n",
        "}"
      ],
      "metadata": {
        "id": "NLAAkHwtWemI"
      },
      "execution_count": null,
      "outputs": []
    },
    {
      "cell_type": "code",
      "source": [
        "const expr = 'Chleb';\n",
        "switch (expr) {\n",
        "  case 'Oranges':\n",
        "    console.log('Oranges are $0.59 a pound.');\n",
        "    break;\n",
        "  case 'Mangoes':\n",
        "  case 'Papayas':\n",
        "    console.log('Mangoes and papayas are $2.79 a pound.');\n",
        "    // expected output: \"Mangoes and papayas are $2.79 a pound.\"\n",
        "    break;\n",
        "  default:\n",
        "    console.log(`Sorry, we are out of ${expr}.`);\n",
        "}"
      ],
      "metadata": {
        "id": "FB0KKM0GGIUh"
      },
      "execution_count": null,
      "outputs": []
    },
    {
      "cell_type": "code",
      "source": [
        "const promo = '50%'\n",
        "\n",
        "switch (promo) {\n",
        "    case '10%':\n",
        "        console.log('Dzis mamy 10% znizki')\n",
        "        break\n",
        "\n",
        "    case '20%':\n",
        "        console.log('Dzis mamy 20% znizki')\n",
        "        break\n",
        "\n",
        "    case '30%':\n",
        "        console.log('Dzis mamy 30% znizki')\n",
        "        break\n",
        "\n",
        "    default:\n",
        "        // console.log('Dzis mamy niestandardowa promocje')\n",
        "        console.log(`Dzis mamy ${promo} znizki`)\n",
        "}"
      ],
      "metadata": {
        "id": "yllk722jLoIi"
      },
      "execution_count": null,
      "outputs": []
    },
    {
      "cell_type": "markdown",
      "source": [
        "31. Operator warunkowy"
      ],
      "metadata": {
        "id": "NhbezTswRiIp"
      }
    },
    {
      "cell_type": "code",
      "source": [
        "const x = 21\n",
        "\n",
        "// if (x > 20) {\n",
        "//     console.log(`${x} > 20`)\n",
        "// } else {\n",
        "//     console.log(`${x} < 20`)\n",
        "// }\n",
        "\n",
        "\n",
        "// wartość ? TRUE : FALSE\n",
        "\n",
        "const newX = x > 20 ? `${x} > 20` : `${x} < 20`\n",
        "console.log(newX)\n",
        "\n",
        "// ---------------------------------------------\n",
        "\n",
        "const isLoggedIn = true\n",
        "\n",
        "function loggedIn() {\n",
        "    console.log('Uzytkownik jest zalogowany!')\n",
        "}\n",
        "\n",
        "function loggedOut() {\n",
        "    console.log('Uzytkownik nie jest zalogowany!')\n",
        "}\n",
        "\n",
        "// if (isLoggedIn) {\n",
        "//     loggedIn()\n",
        "// } else {\n",
        "//     loggedOut()\n",
        "// }\n",
        "    \n",
        "isLoggedIn ? loggedIn() : loggedOut()"
      ],
      "metadata": {
        "id": "TOAs5rC2RnJO"
      },
      "execution_count": null,
      "outputs": []
    },
    {
      "cell_type": "code",
      "source": [
        "const x = 100\n",
        "\n",
        "const check = (x % 2 ===0) ? 'X jest parzyste' : 'X nie jest parzyste'"
      ],
      "metadata": {
        "id": "-wyJcxfQLvH2"
      },
      "execution_count": null,
      "outputs": []
    }
  ]
}