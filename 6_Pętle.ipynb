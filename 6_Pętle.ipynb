{
  "nbformat": 4,
  "nbformat_minor": 0,
  "metadata": {
    "colab": {
      "name": "6 - Pętle.ipynb",
      "provenance": [],
      "authorship_tag": "ABX9TyNWq255hBxuQoRxNzVqN4ju"
    },
    "kernelspec": {
      "name": "python3",
      "display_name": "Python 3"
    },
    "language_info": {
      "name": "python"
    }
  },
  "cells": [
    {
      "cell_type": "code",
      "source": [
        "<!DOCTYPE html>\n",
        "<html lang='en'>\n",
        "\n",
        "<head>\n",
        "    <meta charset='UTF-8'>\n",
        "    <meta http-equiv=\"X-UA-Compatibile\" content='IE=edge'>\n",
        "    <meta name=\"viewport\" content=\"width=device-width, initial-scale=1.0\">\n",
        "    <title> MCC - JavaScript</title>\n",
        "    <link rel=\"stylesheet\" href=\"style.css\"\n",
        " \n",
        "</head>\n",
        "\n",
        "<body>\n",
        "    <h1>Instrukcje warunkowe</h1>\n",
        "\n",
        "    <script src=\"./script.js\"></script>\n",
        "</body>\n",
        "</html>"
      ],
      "metadata": {
        "id": "WIBc3fqgtCdB"
      },
      "execution_count": null,
      "outputs": []
    },
    {
      "cell_type": "code",
      "source": [
        "* {\n",
        "\tbox-sizing: border-box;\n",
        "\tmargin: 0;\n",
        "\tpadding: 0;\n",
        "}\n",
        "\n",
        "body {\n",
        "\tdisplay: flex;\n",
        "\tjustify-content: center;\n",
        "\talign-items: center;\n",
        "\tflex-direction: column;\n",
        "\theight: 100vh;\n",
        "\tfont-family: 'Open Sans', sans-serif;\n",
        "\tcolor: #fff;\n",
        "\tbackground-color: #1e1d23;\n",
        "\tfont-size: 36px;\n",
        "}"
      ],
      "metadata": {
        "id": "3q6QPAnLWTs7"
      },
      "execution_count": null,
      "outputs": []
    },
    {
      "cell_type": "markdown",
      "source": [
        "38. FOR"
      ],
      "metadata": {
        "id": "hUdPri-lOURL"
      }
    },
    {
      "cell_type": "code",
      "source": [
        "const alfabet = ['a', 'b', 'c', 'd', 'e', 'f', 'g']\n",
        "\n",
        "// for(let i = 0; i < 7; i++) {\n",
        "//     console.log(i)   \n",
        "// }\n",
        "\n",
        "// console.log(alfabet[0])\n",
        "\n",
        "// for(let i = 0; i < 7; i++) {\n",
        "//     console.log(alfabet[i])\n",
        "// }\n",
        "\n",
        "for(let i = 0; i < alfabet.length; i++) {\n",
        "    console.log(alfabet[i])\n",
        "}"
      ],
      "metadata": {
        "id": "Rxv4qdafOXK-"
      },
      "execution_count": null,
      "outputs": []
    },
    {
      "cell_type": "code",
      "source": [
        "const cities = ['ny', 'la', 'miami']\n",
        "\n",
        "console.log(cities)\n",
        "\n",
        "for (let i = 0; i < cities.length; i++) {\n",
        "    console.log(`To miasto nazywa sie ${cities[i].toUpperCase()}`)\n",
        "}"
      ],
      "metadata": {
        "id": "5nML37GC9acv"
      },
      "execution_count": null,
      "outputs": []
    },
    {
      "cell_type": "markdown",
      "source": [
        "39. WHILE"
      ],
      "metadata": {
        "id": "ciOi6t8zYr-D"
      }
    },
    {
      "cell_type": "code",
      "source": [
        "// let i = 0\n",
        "\n",
        "// while (i < 5) {\n",
        "//     console.log(i)\n",
        "//     i++\n",
        "// }\n",
        "\n",
        "let i = 0\n",
        "\n",
        "while (i < 5) {\n",
        "    i++\n",
        "    console.log(i)\n",
        "}"
      ],
      "metadata": {
        "id": "RL4iud_tYvZE"
      },
      "execution_count": null,
      "outputs": []
    },
    {
      "cell_type": "code",
      "source": [
        "let x = 0\n",
        "\n",
        "while(x < 10) {\n",
        "    // x ++ // co jeden\n",
        "\n",
        "    // x+= 1 // co jeden zapis skrócony\n",
        "\n",
        "    // x = x + 2 // co dwa\n",
        "\n",
        "    x += 2 // co dwa zapis skrócony\n",
        "    \n",
        "    // x+= 1\n",
        "\n",
        "    console.log(x)\n",
        "}"
      ],
      "metadata": {
        "id": "K3elL5NXAWG3"
      },
      "execution_count": null,
      "outputs": []
    },
    {
      "cell_type": "markdown",
      "source": [
        "40. Do ... while (to odwrotna pętla do while)"
      ],
      "metadata": {
        "id": "-7iaHM_2hnTH"
      }
    },
    {
      "cell_type": "code",
      "source": [
        "let i = 0\n",
        "\n",
        "do {\n",
        "    i++\n",
        "    console.log(i)\n",
        "} while (i < 2)"
      ],
      "metadata": {
        "id": "A8nv-Ak8hqAC"
      },
      "execution_count": null,
      "outputs": []
    },
    {
      "cell_type": "code",
      "source": [
        "let x = 20\n",
        "\n",
        "console.log(`Przed pętlą ${x}`)\n",
        "\n",
        "do {\n",
        "    x-= 3\n",
        "    console.log(`W pętli ${x}`)\n",
        "} while (x > 0)\n",
        "\n",
        "console.log(`Poza pętlą ${x}`)"
      ],
      "metadata": {
        "id": "1_m-Wm_9CvGl"
      },
      "execution_count": null,
      "outputs": []
    },
    {
      "cell_type": "markdown",
      "source": [
        "41. For of (jest jeszcze pętla For in przydatna przy obiektach)"
      ],
      "metadata": {
        "id": "BHsHApiIi7kV"
      }
    },
    {
      "cell_type": "code",
      "source": [
        "const numbers = [1,2,3,4,5]\n",
        "\n",
        "// po staremu\n",
        "// for (let i = 0; i < numbers.length; i++) {\n",
        "//     console.log(numbers[i] * 2)\n",
        "// }\n",
        "\n",
        "for (const number of numbers) {\n",
        "    console.log(number * 2)\n",
        "}"
      ],
      "metadata": {
        "id": "5LkZhFsRjAOn"
      },
      "execution_count": null,
      "outputs": []
    },
    {
      "cell_type": "code",
      "source": [
        "const numbers = [5, 8, 10, 23, 48, 60]\n",
        "\n",
        "console.log(numbers)\n",
        "\n",
        "for(const number of numbers) {\n",
        "    console.log(number / 5)\n",
        "}\n",
        "\n",
        "\n",
        "console.log('-----------')\n",
        "\n",
        "\n",
        "for(const number of numbers) {\n",
        "    if(number%2 === 0) {\n",
        "        console.log(`%cLiczba ${number} jest parzysta.`, 'background-color:gold; color: black')\n",
        "    } else console.log(`%cLiczba ${number} nie jest parzysta.`, 'background-color: tomato; color: black')\n",
        "}"
      ],
      "metadata": {
        "id": "cFsJ-4eqJKJC"
      },
      "execution_count": null,
      "outputs": []
    }
  ]
}