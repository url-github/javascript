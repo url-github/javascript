{
  "nbformat": 4,
  "nbformat_minor": 0,
  "metadata": {
    "colab": {
      "name": "7 - Tablice.ipynb",
      "provenance": [],
      "authorship_tag": "ABX9TyN1lRefIzKt+ENOKSqnkhZV"
    },
    "kernelspec": {
      "name": "python3",
      "display_name": "Python 3"
    },
    "language_info": {
      "name": "python"
    }
  },
  "cells": [
    {
      "cell_type": "code",
      "source": [
        "<!DOCTYPE html>\n",
        "<html lang='en'>\n",
        "\n",
        "<head>\n",
        "    <meta charset='UTF-8'>\n",
        "    <meta http-equiv=\"X-UA-Compatibile\" content='IE=edge'>\n",
        "    <meta name=\"viewport\" content=\"width=device-width, initial-scale=1.0\">\n",
        "    <title> MCC - JavaScript</title>\n",
        "    <link rel=\"stylesheet\" href=\"style.css\"\n",
        " \n",
        "</head>\n",
        "\n",
        "<body>\n",
        "    <h1>Tablice</h1>\n",
        "\n",
        "    <div class='wrapper'>\n",
        "        <button>Przycisk nr 1</button>\n",
        "        <button>Przycisk nr 2</button>\n",
        "        <button>Przycisk nr 3</button>\n",
        "    </div>\n",
        "\n",
        "\n",
        "    <script src=\"./script.js\"></script>\n",
        "</body>\n",
        "</html>"
      ],
      "metadata": {
        "id": "plN5kxNKFlA3"
      },
      "execution_count": null,
      "outputs": []
    },
    {
      "cell_type": "code",
      "source": [
        "* {\n",
        "\tbox-sizing: border-box;\n",
        "\tmargin: 0;\n",
        "\tpadding: 0;\n",
        "}\n",
        "\n",
        "body {\n",
        "\tdisplay: flex;\n",
        "\tjustify-content: center;\n",
        "\talign-items: center;\n",
        "\tflex-direction: column;\n",
        "\theight: 100vh;\n",
        "\tfont-family: 'Open Sans', sans-serif;\n",
        "\tcolor: #fff;\n",
        "\tbackground-color: #1e1d23;\n",
        "\tfont-size: 36px;\n",
        "}"
      ],
      "metadata": {
        "id": "NIv0hY7cFmJC"
      },
      "execution_count": null,
      "outputs": []
    },
    {
      "cell_type": "markdown",
      "source": [
        "47. Tablice"
      ],
      "metadata": {
        "id": "zx8mfAsOv5DB"
      }
    },
    {
      "cell_type": "code",
      "execution_count": null,
      "metadata": {
        "id": "SvcMmvdWsmV2"
      },
      "outputs": [],
      "source": [
        "// const btn1 = document.querySelector(\"body > div > button:nth-child(1)\")\n",
        "// const btn2 = document.querySelector(\"body > div > button:nth-child(2)\")\n",
        "// const btn3 = document.querySelector(\"body > div > button:nth-child(3)\")\n",
        "\n",
        "\n",
        "const btns = document.querySelectorAll('button')\n",
        "console.log(btns)\n",
        "\n",
        "\n",
        "function btnMsg(e) {\n",
        "    console.log(`Kliknięto ${e.target.textContent} !`);\n",
        "}\n",
        "\n",
        "// btn1.addEventListener('click', btnMsg)\n",
        "// btn2.addEventListener('click', btnMsg)\n",
        "// btn3.addEventListener('click', btnMsg)\n",
        "\n",
        "btns.forEach(btn => btn.addEventListener('click', btnMsg))"
      ]
    },
    {
      "cell_type": "markdown",
      "source": [
        "Pętla forEach (występuje z funkcjami i tablicami)"
      ],
      "metadata": {
        "id": "jFXvjvDIwLSa"
      }
    },
    {
      "cell_type": "code",
      "source": [
        "const btns = document.querySelectorAll('button')\n",
        "console.log(btns)\n",
        "\n",
        "\n",
        "function btnMsg(e) {\n",
        "    console.log(`Kliknięto ${e.target.textContent} !`);\n",
        "}\n",
        "\n",
        "btns.forEach(btn => btn.addEventListener('click', btnMsg))"
      ],
      "metadata": {
        "id": "WiNI9ectwS9a"
      },
      "execution_count": null,
      "outputs": []
    },
    {
      "cell_type": "markdown",
      "source": [
        "48. Metody na tablicach (unshift, shift, push, pop)"
      ],
      "metadata": {
        "id": "wk7neiPeDPj_"
      }
    },
    {
      "cell_type": "code",
      "source": [
        "const numbers = [1,2,3,4,5]\n",
        "\n",
        "console.log(numbers)\n",
        "\n",
        "numbers.unshift(-1,0)\n",
        "\n",
        "console.log(numbers)\n",
        "\n",
        "numbers.shift()\n",
        "console.log(numbers)\n",
        "\n",
        "// Metoda unshift - dodaje elementy na początku tablicy\n",
        "// Metoda shift - usuwa element z indeksem 0\n",
        "\n",
        "const colors = ['red', 'green', 'blue']\n",
        "console.log(colors)\n",
        "\n",
        "colors.push('gold')\n",
        "console.log(colors)\n",
        "\n",
        "colors.pop()\n",
        "console.log(colors)\n",
        "\n",
        "// Metoda push - dodaje elementy na końcu tablicy\n",
        "// Metoda pop - usuwa ostatni element w tablicy"
      ],
      "metadata": {
        "id": "1kELcs8MDb5f"
      },
      "execution_count": null,
      "outputs": []
    },
    {
      "cell_type": "markdown",
      "source": [
        "49. Metody na tablicach (map, concat, spread & rest operator"
      ],
      "metadata": {
        "id": "VmSHEUBKGV1-"
      }
    },
    {
      "cell_type": "code",
      "source": [
        "const numbers = [1, 2, 3, 4, 5]\n",
        "\n",
        "// function multiply(x) {\n",
        "//     return x * 2\n",
        "// }\n",
        "\n",
        "// const newNumbers = numbers.map(multiply)\n",
        "\n",
        "console.log(numbers)\n",
        "// console.log(newNumbers)\n",
        "\n",
        "// Metoda map\n",
        "// Podobna do pętli, wykonuje jakiś kod na każdym elemencie tablicy\n",
        "// W nawiasach podajemy nazwę funkcji, której kod ma się wykonać na elementach tablicy\n",
        "// Zwraca nową tablicę \n",
        "\n",
        "// >>\n",
        "\n",
        "// numbers.push(6,7,8)\n",
        "\n",
        "// Push jest metodą destrukcyjną czyli zmienia strukturę oryginalnego obiektu\n",
        "\n",
        "\n",
        "// >>\n",
        "\n",
        "const abc = [6,7,8]\n",
        "const newAbc = numbers.concat(abc,9,10,true,false)\n",
        "\n",
        "// Concat jest metodą niedestrukcyjną czyli nie zmiania struktury oryginalnego obiektu \n",
        "\n",
        "console.log(newAbc)\n",
        "console.log(numbers)\n",
        "\n",
        "// >>\n",
        "\n",
        "console.log(abc)\n",
        "console.log(...abc)\n",
        "\n",
        "const drinks = ['herbata', 'kawa', 'wodka']\n",
        "const meals = ['zaupa', 'tofu']\n",
        "\n",
        "const menu = [...drinks, ...meals]\n",
        "console.log(menu)\n",
        "\n",
        "const menu2 = drinks.concat(meals)\n",
        "console.log(menu2)"
      ],
      "metadata": {
        "id": "k3f7FAdkGiYB"
      },
      "execution_count": null,
      "outputs": []
    },
    {
      "cell_type": "markdown",
      "source": [
        "51. Metody Slice & Splice"
      ],
      "metadata": {
        "id": "A68DGgBLRWgi"
      }
    },
    {
      "cell_type": "code",
      "source": [
        "const numbers = [0,0,1,1,2,2,2]\n",
        "const colors = ['red', 'green', 'blue', true, 123]\n",
        "const cars = [123, true, 'audi', 'bmw', 'mercedes', 'ferrari']\n",
        "\n",
        "// Pobieram dwa pierwsze elementy\n",
        "const numbers2 = numbers.slice(0,2)\n",
        "console.log(numbers2)\n",
        "\n",
        "// Pobieram trzy ostatnie dwójki\n",
        "const numbers3 = numbers.slice(-3)\n",
        "console.log(numbers3)\n",
        "\n",
        "const randomStuff = colors.splice(-2)\n",
        "console.log(colors)\n",
        "console.log(randomStuff)\n",
        "\n",
        "//Metoda Slice nie jest destrukcyjna\n",
        "//Metoda Splice jest metodą destrukcyjną\n",
        "\n",
        "const newCars = cars.splice(2, 4, 'example')\n",
        "console.log(newCars)\n",
        "console.log(cars)"
      ],
      "metadata": {
        "id": "9zumJLrbRcm6"
      },
      "execution_count": null,
      "outputs": []
    },
    {
      "cell_type": "markdown",
      "source": [
        "52. Metody na tablicach (Pozostałe metody)"
      ],
      "metadata": {
        "id": "uTy1Rd0ndoD3"
      }
    },
    {
      "cell_type": "code",
      "source": [
        "const numbers = [0,23,48,175,2,34,11]\n",
        "\n",
        "// function number (x) {\n",
        "//     return x % 2 === 0\n",
        "// }\n",
        "\n",
        "// console.log(numbers.filter(number))\n",
        "\n",
        "// callback - funkcja, którą przekazujemy jako argument do innej funkcji\n",
        "\n",
        "numbers.forEach(number => console.log(number * 5))\n",
        "\n",
        "console.log(numbers)\n",
        "\n",
        "console.log(numbers.includes(2))\n",
        "console.log(numbers.indexOf(65)) \n",
        "\n",
        "// Jeżeli tablica nie ma jakiegoś elementu to wynikiem indexOf będzie -1"
      ],
      "metadata": {
        "id": "IIsP7nNqdtD6"
      },
      "execution_count": null,
      "outputs": []
    }
  ]
}