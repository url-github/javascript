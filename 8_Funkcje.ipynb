{
  "nbformat": 4,
  "nbformat_minor": 0,
  "metadata": {
    "colab": {
      "name": "8 - Funkcje.ipynb",
      "provenance": [],
      "authorship_tag": "ABX9TyMXUhUBq3qVBlqSQRgDM8qM"
    },
    "kernelspec": {
      "name": "python3",
      "display_name": "Python 3"
    },
    "language_info": {
      "name": "python"
    }
  },
  "cells": [
    {
      "cell_type": "code",
      "execution_count": null,
      "metadata": {
        "id": "A6AeF_xPdda3"
      },
      "outputs": [],
      "source": [
        "<!DOCTYPE html>\n",
        "<html lang=\"en\">\n",
        "<head>\n",
        "    <meta charset=\"UTF-8\">\n",
        "    <meta http-equiv=\"X-UA-Compatible\" content=\"IE=edge\">\n",
        "    <meta name=\"viewport\" content=\"width=device-width, initial-scale=1.0\">\n",
        "    <title>JavaScript</title>\n",
        "    <link rel=\"stylesheet\" href=\"style.css\"\n",
        " \n",
        "</head>\n",
        "\n",
        "<body>\n",
        "    <h1>Tablice</h1>\n",
        "\n",
        "    <div class='wrapper'>\n",
        "        <button>Przycisk nr 1</button>\n",
        "        <button>Przycisk nr 2</button>\n",
        "        <button>Przycisk nr 3</button>\n",
        "    </div>\n",
        "\n",
        "\n",
        "    <script src=\"./script.js\"></script>\n",
        "</body>\n",
        "</html>"
      ]
    },
    {
      "cell_type": "markdown",
      "source": [
        "59 - Wprowadzenie do funkcji"
      ],
      "metadata": {
        "id": "titcH8RFsv3F"
      }
    },
    {
      "cell_type": "code",
      "source": [
        "// Deklaracja funkcji\n",
        "\n",
        "function example () {\n",
        "    console.log('example')\n",
        "}\n",
        "\n",
        "example()\n",
        "\n",
        "// Wyrażenie funkcyjne\n",
        "\n",
        "const helloWorld = function () {\n",
        "    console.log('Hello World')\n",
        "}\n",
        "\n",
        "helloWorld()\n",
        "\n",
        "// Funkcja z argumentami\n",
        "\n",
        "function add(parametr) {\n",
        "    console.log(`Podana wartość parametru to: ` + parametr)\n",
        "}\n",
        "\n",
        "add('example')\n",
        "\n",
        "// Parametry tworzymy podczas tworzenia funkcji\n",
        "// Argumenty podajemy podczas wywoływania funkcji \n",
        "\n",
        "function add4(x, y) {\n",
        "    console.log(x + y)\n",
        "}\n",
        "\n",
        "add4(5,5)\n",
        "\n",
        "function add2(x, y) {\n",
        "    return x + y\n",
        "}\n",
        "\n",
        "// return - tak samo jak map() zwraca nową tablicę, z którą można pracować, tak samo return zwraca warość, z której można w przyszłości skorzystać\n",
        "\n",
        "function add3(x, y) {\n",
        "    if (x < y) return\n",
        "\n",
        "    console.log(x + y)\n",
        "}\n",
        "\n",
        "add3(100,50)"
      ],
      "metadata": {
        "id": "uAt_wuxksybl"
      },
      "execution_count": null,
      "outputs": []
    },
    {
      "cell_type": "code",
      "source": [
        "function hello (x, y) {\n",
        "    console.log(`To jest pierwszy argument funkcji ${x}, a to jest drugi argument funkcji ${y}`)\n",
        "}\n",
        "\n",
        "hello(1,2)"
      ],
      "metadata": {
        "id": "o_iAJNoIxx2X"
      },
      "execution_count": null,
      "outputs": []
    },
    {
      "cell_type": "markdown",
      "source": [
        "60 - Funkcja anonimowa"
      ],
      "metadata": {
        "id": "nxklyFHX0Csp"
      }
    },
    {
      "cell_type": "code",
      "source": [
        "const heading = document.querySelector('h1')\n",
        "\n",
        "console.log(heading)\n",
        "\n",
        "\n",
        "// Funkcja anonimowa (niepreferowana)\n",
        "heading.addEventListener('click', function() {\n",
        "    console.log('Click!')\n",
        "})\n",
        "\n",
        "\n",
        "// Funkcja + callback\n",
        "function click () {\n",
        "    console.log('Click2!')\n",
        "}\n",
        "\n",
        "heading.addEventListener('click', click)"
      ],
      "metadata": {
        "id": "s0Rcpi-30GXl"
      },
      "execution_count": null,
      "outputs": []
    },
    {
      "cell_type": "markdown",
      "source": [
        "61 - Funkcja strzałkowa"
      ],
      "metadata": {
        "id": "0VzWi2ti8UXE"
      }
    },
    {
      "cell_type": "code",
      "source": [
        "//Składnia\n",
        "const arrowFunction = () => {\n",
        "    //to jest funkcja strzałkowa\n",
        "}\n",
        "\n",
        "// Funkcja po staremu\n",
        "function test(name) {\n",
        "    console.log(`Wyloguje sobie ${name}`)\n",
        "}\n",
        "test('example')\n",
        "\n",
        "// To samo za pomocą =>\n",
        "const test2 = (name) => {\n",
        "    console.log(`Wyloguje sobie ${name}`)\n",
        "}\n",
        "test2('example2')\n",
        "\n",
        "// To samo za pomocą => w jednej linii\n",
        "const test3 = (name) => console.log(`Wyloguje sobie ${name}`)\n",
        "test3('example3')\n",
        "\n",
        "// To samo za pomocą => w jednej linii z dwoma parametrami\n",
        "const test4 = (name, test) => console.log(`Wyloguje sobie ${name} oraz ${test}`)\n",
        "test4('example4', 'test')\n",
        "\n",
        "// W funkcji strzałkowej return jest automatycznie dodawany\n",
        "\n",
        "function add(num1, num2) {\n",
        "    return num1 / num2\n",
        "}\n",
        "\n",
        "const add2 = (num1, num2) => num1 * num2\n",
        "\n",
        "const days = ['poniedzialek', 'wtorek', 'sroda']\n",
        "const days2 = days.forEach(day => console.log(day))"
      ],
      "metadata": {
        "id": "xTuwgdle8XPh"
      },
      "execution_count": null,
      "outputs": []
    },
    {
      "cell_type": "markdown",
      "source": [
        "62 - Domyślne parametry funkcji"
      ],
      "metadata": {
        "id": "MBEISVegJsjP"
      }
    },
    {
      "cell_type": "code",
      "source": [
        "const hello = (name = 'drogi użytkowniku') => {\n",
        "    console.log(`Cześć ${name}, jak się masz?`)\n",
        "}\n",
        "hello()\n",
        "hello('PM')\n",
        "\n",
        "\n",
        "function hello2(name = 'drogi użytkowniku') {\n",
        "    console.log(`Cześć ${name}, jak się masz`)\n",
        "}\n",
        "hello2()\n",
        "\n",
        "\n",
        "const add = (x = 5, y = 5) => {\n",
        "    console.log(x + y)\n",
        "}\n",
        "\n",
        "add()"
      ],
      "metadata": {
        "id": "zIvtYXSiJx_i"
      },
      "execution_count": null,
      "outputs": []
    },
    {
      "cell_type": "markdown",
      "source": [
        "63 - Operator Rest"
      ],
      "metadata": {
        "id": "G1cNXPuXwJLi"
      }
    },
    {
      "cell_type": "code",
      "source": [
        "// Spread\n",
        "const arr = [1,2,3,4,5]\n",
        "console.log(arr)\n",
        "console.log(...arr)\n",
        "\n",
        "\n",
        "// Rest\n",
        "const numbers = (x,y,...z) => {\n",
        "    console.log(x,y,z)    \n",
        "\n",
        "    console.log(z.map (el => el*3))\n",
        "}\n",
        "\n",
        "numbers(12,3,24,4,252,5325,22,42,5,75,4,6,3,'example',true)"
      ],
      "metadata": {
        "id": "iBl1w44rwM-b"
      },
      "execution_count": null,
      "outputs": []
    },
    {
      "cell_type": "markdown",
      "source": [
        "64 - Zakresy"
      ],
      "metadata": {
        "id": "FK3wZ3Vfyv79"
      }
    },
    {
      "cell_type": "markdown",
      "source": [
        "![2021-12-20 20_20_48-script.js - Bez tytułu (obszar roboczy) - Visual Studio Code.png](data:image/png;base64,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)"
      ],
      "metadata": {
        "id": "iDCKTf52SIWK"
      }
    },
    {
      "cell_type": "code",
      "source": [
        "const name = 'Lisa'\n",
        "let food\n",
        "\n",
        "\n",
        "const test = () => {\n",
        "    const name = 'Lily'\n",
        "    console.log(`NAME w funkcji test (zakres lokalny) - ${name}`)\n",
        "\n",
        "    food = 'tofu'\n",
        "    console.log(food)\n",
        "\n",
        "    const age = 23\n",
        "    console.log(age)\n",
        "\n",
        "    const test2 = () => {\n",
        "        console.log(`NAME w funkcji test2 (zakres lokalny) - ${name}`)\n",
        "\n",
        "        food = 'pizza'\n",
        "        console.log(food)\n",
        "\n",
        "        console.log(name)\n",
        "        console.log(age)\n",
        "\n",
        "        const color = 'Blue'\n",
        "        console.log(color)\n",
        "    }\n",
        "    test2()\n",
        "\n",
        "    // const test3 = () => {\n",
        "    //     console.log(color)        \n",
        "    // }\n",
        "    // // test3()\n",
        "\n",
        "}\n",
        "test()\n",
        "\n",
        "// Zakres globalny\n",
        "console.log(name)\n",
        "console.log(`NAME poza funkcją (zakres globalny) - ${name}`)"
      ],
      "metadata": {
        "id": "F-kKH9NxyyGU"
      },
      "execution_count": null,
      "outputs": []
    },
    {
      "cell_type": "markdown",
      "source": [
        "65 - Funkcje forEach i callback"
      ],
      "metadata": {
        "id": "DDn4NagSS0A3"
      }
    },
    {
      "cell_type": "code",
      "source": [
        "const numbers = [0.5, 4, 'abc']\n",
        "numbers.forEach(num => console.log(num * num))\n",
        "\n",
        "\n",
        "// forEach nic nie zwraca (stąd undefined)\n",
        "const names = ['Lisa', 'Lily', 'Ania', 'Kasia']\n",
        "const bigNames = names.forEach(name => name.toLocaleUpperCase())\n",
        "console.log(bigNames)\n",
        "\n",
        "// map jest tym co forEach tylko zwraca wartość\n",
        "const bigNames2 = names.map(name => name.toLocaleUpperCase())\n",
        "console.log(bigNames2)\n",
        "\n",
        "// forEach & Coolback\n",
        "const showBigNames = (name) => {\n",
        "    console.log(name.toUpperCase())\n",
        "}\n",
        "\n",
        "names.forEach(showBigNames)\n",
        "console.log('---')\n",
        "names.forEach(el => console.log(el.toUpperCase()))"
      ],
      "metadata": {
        "id": "odfFSDfPS5m1"
      },
      "execution_count": null,
      "outputs": []
    },
    {
      "cell_type": "markdown",
      "source": [
        "66 - Funkcje (dodanie elementów i sprawdzenie czy są parzyste)"
      ],
      "metadata": {
        "id": "EoZzU2vzdoTl"
      }
    },
    {
      "cell_type": "code",
      "source": [
        "let score\n",
        "\n",
        "const add = (x, y) => {\n",
        "    score = x + y \n",
        "\n",
        "    if(score % 2 ===0) {\n",
        "        evenMSG()\n",
        "    } else {\n",
        "        oddMSG()\n",
        "    }\n",
        "}\n",
        "\n",
        "const evenMSG = () => {\n",
        "    console.log(`Liczba ${score} jest parzysta`)\n",
        "}\n",
        "\n",
        "const oddMSG = () => {\n",
        "    console.log(`Liczba ${score} jest nie parzysta`)\n",
        "}\n",
        "\n",
        "add(10,15)"
      ],
      "metadata": {
        "id": "7WR9zfm6dzVb"
      },
      "execution_count": null,
      "outputs": []
    },
    {
      "cell_type": "code",
      "source": [
        "// let score\n",
        "\n",
        "const add = (x, y) => {\n",
        "    score = x + y\n",
        "\n",
        "    score % 2 === 0 ? evenMSG(score) : oddMSG(score)\n",
        "}\n",
        "\n",
        "const evenMSG = (num) => {\n",
        "    console.log(`Liczba ${num} jest parzysta`)\n",
        "}\n",
        "\n",
        "const oddMSG = (num) => {\n",
        "    console.log(`Liczba ${num} jest nie parzysta`)\n",
        "}\n",
        "\n",
        "add(10,15)"
      ],
      "metadata": {
        "id": "qHMOzwzpurOK"
      },
      "execution_count": null,
      "outputs": []
    },
    {
      "cell_type": "markdown",
      "source": [
        "67 - Konwerter F na C"
      ],
      "metadata": {
        "id": "J3yIXfVguz1q"
      }
    },
    {
      "cell_type": "code",
      "source": [
        "let celsius\n",
        "let temp\n",
        "\n",
        "const fahrenheit = (c) => {\n",
        "    celsius = c\n",
        "    temp = celsius * 1.8 + 32\n",
        "\n",
        "    console.log(`${c} = ${temp}`)\n",
        "}\n",
        "\n",
        "fahrenheit(25)"
      ],
      "metadata": {
        "id": "BqJwYaCXu4Fp"
      },
      "execution_count": null,
      "outputs": []
    },
    {
      "cell_type": "markdown",
      "source": [
        "68 - Collback & forEach"
      ],
      "metadata": {
        "id": "kM-fp8MayL1q"
      }
    },
    {
      "cell_type": "code",
      "source": [
        "const num = 10\n",
        "const numbers = []\n",
        "\n",
        "for(let i = 0; i < num; i++) {\n",
        "    numbers.push(i)\n",
        "}\n",
        "\n",
        "const checkNumbers = (number) => {\n",
        "    if(number % 3 === 0 && number !=0) {\n",
        "        console.log(`${number} jest podzielne przez 3.`)\n",
        "    } else {\n",
        "        console.log(`${number} nie jest podzielne przez 3 lub ${number} = 0.`)\n",
        "    }\n",
        "}\n",
        "\n",
        "numbers.forEach(checkNumbers)"
      ],
      "metadata": {
        "id": "KSyUyCP5yQmS"
      },
      "execution_count": null,
      "outputs": []
    }
  ]
}